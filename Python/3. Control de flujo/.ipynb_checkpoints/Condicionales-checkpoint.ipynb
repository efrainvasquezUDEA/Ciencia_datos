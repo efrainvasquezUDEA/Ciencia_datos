{
 "cells": [
  {
   "cell_type": "code",
   "execution_count": 7,
   "metadata": {},
   "outputs": [
    {
     "name": "stdout",
     "output_type": "stream",
     "text": [
      "Es mayor\n"
     ]
    }
   ],
   "source": [
    "edad = 20\n",
    "if edad >= 18:\n",
    "    print('Es mayor')\n",
    "else:\n",
    "    print('Es menor') "
   ]
  },
  {
   "cell_type": "markdown",
   "metadata": {},
   "source": [
    "# Contador"
   ]
  },
  {
   "cell_type": "code",
   "execution_count": 14,
   "metadata": {},
   "outputs": [
    {
     "name": "stdout",
     "output_type": "stream",
     "text": [
      "el numero | 1 | es impar\n",
      "el numero | 2 | es par\n",
      "el numero | 3 | es impar\n",
      "el numero | 4 | es par\n",
      "el numero | 5 | es impar\n",
      "el numero | 5 | es divisible por 5\n",
      "el numero | 6 | es par\n",
      "el numero | 7 | es impar\n",
      "el numero | 8 | es par\n",
      "el numero | 9 | es impar\n",
      "el numero | 10 | es par\n",
      "el numero | 10 | es divisible por 5\n",
      "el numero | 11 | es impar\n",
      "el numero | 12 | es par\n",
      "el numero | 13 | es impar\n",
      "el numero | 14 | es par\n",
      "el numero | 15 | es impar\n",
      "el numero | 15 | es divisible por 5\n",
      "el numero | 16 | es par\n"
     ]
    }
   ],
   "source": [
    "lista = [1,2,3,4,5,6,7,8,9,10,11,12,13,14,15,16]\n",
    "for numero in lista:\n",
    "    if numero % 2 == 0:\n",
    "        print('el numero |', numero, '| es par')\n",
    "    if numero % 2 != 0:\n",
    "        print('el numero |', numero, '| es impar')\n",
    "    if numero % 5 == 0:\n",
    "        print('el numero |', numero, '| es divisible por 5')"
   ]
  },
  {
   "cell_type": "code",
   "execution_count": null,
   "metadata": {
    "collapsed": true
   },
   "outputs": [],
   "source": []
  }
 ],
 "metadata": {
  "kernelspec": {
   "display_name": "Python 3",
   "language": "python",
   "name": "python3"
  },
  "language_info": {
   "codemirror_mode": {
    "name": "ipython",
    "version": 3
   },
   "file_extension": ".py",
   "mimetype": "text/x-python",
   "name": "python",
   "nbconvert_exporter": "python",
   "pygments_lexer": "ipython3",
   "version": "3.6.1"
  }
 },
 "nbformat": 4,
 "nbformat_minor": 2
}
